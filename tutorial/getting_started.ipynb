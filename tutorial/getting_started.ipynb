{
 "cells": [
  {
   "cell_type": "markdown",
   "metadata": {},
   "source": [
    "# Nexus Tutorial"
   ]
  },
  {
   "cell_type": "markdown",
   "metadata": {},
   "source": [
    "In this tutorial we guide you through the Nexus API by using a Client. It is assumed that this notebook is run using python 3.x.\n",
    "\n",
    "\n",
    "Before starting, checkout the Nexus API documentation: https://scientia.atinary.com/nexus/docs/"
   ]
  },
  {
   "cell_type": "markdown",
   "metadata": {},
   "source": [
    "## API KEY setup"
   ]
  },
  {
   "cell_type": "markdown",
   "metadata": {},
   "source": [
    "Go to https://home.atinary.com and login. If you don't have an account yet, please create one by clicking on `Register`. After you are logged in you will be able to create an `API Key`. Paste it below."
   ]
  },
  {
   "cell_type": "code",
   "execution_count": 1,
   "metadata": {},
   "outputs": [],
   "source": [
    "my_api_key = 'my_api_key'"
   ]
  },
  {
   "cell_type": "markdown",
   "metadata": {},
   "source": [
    "## General Setup"
   ]
  },
  {
   "cell_type": "markdown",
   "metadata": {},
   "source": [
    "All the installations, imports and setup configurations you need to be ready to call the Nexus API"
   ]
  },
  {
   "cell_type": "code",
   "execution_count": null,
   "metadata": {},
   "outputs": [],
   "source": [
    "! pip3 install ../"
   ]
  },
  {
   "cell_type": "markdown",
   "metadata": {},
   "source": [
    "#### Import client and dependencies required"
   ]
  },
  {
   "cell_type": "code",
   "execution_count": null,
   "metadata": {},
   "outputs": [],
   "source": [
    "import openapi_client\n",
    "from openapi_client.rest import ApiException "
   ]
  },
  {
   "cell_type": "markdown",
   "metadata": {},
   "source": [
    "#### Configuration setup"
   ]
  },
  {
   "cell_type": "code",
   "execution_count": null,
   "metadata": {
    "scrolled": false
   },
   "outputs": [],
   "source": [
    "# Define the Nexus host and setup your personal X-API-KEY\n",
    "configuration = openapi_client.Configuration(\n",
    "    host = 'https://scientia.atinary.com/nexus/api',\n",
    "    api_key = {\n",
    "        'X-API-KEY': my_api_key\n",
    "    })"
   ]
  },
  {
   "cell_type": "markdown",
   "metadata": {},
   "source": [
    "## Manage projects"
   ]
  },
  {
   "cell_type": "markdown",
   "metadata": {},
   "source": [
    "Let's start by using diverse functionalities of the API to manage projects!\n",
    "As a first step enter a context with a `projects` instance of the API client"
   ]
  },
  {
   "cell_type": "code",
   "execution_count": null,
   "metadata": {},
   "outputs": [],
   "source": [
    "with openapi_client.ApiClient(configuration) as api_client:\n",
    "    projects = openapi_client.ProjectsApi(api_client)"
   ]
  },
  {
   "cell_type": "markdown",
   "metadata": {},
   "source": [
    "### List your projects"
   ]
  },
  {
   "cell_type": "code",
   "execution_count": null,
   "metadata": {},
   "outputs": [],
   "source": [
    "try:\n",
    "    api_response = projects.list_projects()\n",
    "    print(api_response)\n",
    "except ApiException as e:\n",
    "    print(\"Exception when calling ProjectsApi->list_projects: %s\\n\" % e)"
   ]
  },
  {
   "cell_type": "markdown",
   "metadata": {},
   "source": [
    "### Create projects"
   ]
  },
  {
   "cell_type": "markdown",
   "metadata": {},
   "source": [
    "Create a new project `project_1`"
   ]
  },
  {
   "cell_type": "code",
   "execution_count": null,
   "metadata": {},
   "outputs": [],
   "source": [
    "body = openapi_client.ProjectCreateReq(project_name=\"project_1\",\n",
    "                                       project_description=\"My first project\")\n",
    "try:\n",
    "    api_response = projects.create_project(project_create_req=body)\n",
    "    prj_1 = api_response.object.id\n",
    "    print(api_response)\n",
    "except ApiException as e:\n",
    "    print(\"Exception when calling ProjectsApi->create_project: %s\\n\" % e)"
   ]
  },
  {
   "cell_type": "markdown",
   "metadata": {},
   "source": [
    "Create a second project `project_2`. Note that project desctiption is optional, so we don't include it this time"
   ]
  },
  {
   "cell_type": "code",
   "execution_count": null,
   "metadata": {},
   "outputs": [],
   "source": [
    "body = openapi_client.ProjectCreateReq(project_name=\"project_2\")\n",
    "try:\n",
    "    api_response = projects.create_project(project_create_req=body)\n",
    "    prj_2 = api_response.object.id\n",
    "    print(api_response)\n",
    "except ApiException as e:\n",
    "    print(\"Exception when calling ProjectsApi->create_project: %s\\n\" % e)"
   ]
  },
  {
   "cell_type": "markdown",
   "metadata": {},
   "source": [
    "List projects again"
   ]
  },
  {
   "cell_type": "code",
   "execution_count": null,
   "metadata": {},
   "outputs": [],
   "source": [
    "try:\n",
    "    api_response = projects.list_projects()\n",
    "    print(api_response)\n",
    "except ApiException as e:\n",
    "    print(\"Exception when calling ProjectsApi->list_projects: %s\\n\" % e)"
   ]
  },
  {
   "cell_type": "markdown",
   "metadata": {},
   "source": [
    "### Subscribe users to a project"
   ]
  },
  {
   "cell_type": "markdown",
   "metadata": {},
   "source": [
    "Subscribe two users to `project_1` (you can replace the ficticious emails for real ones)"
   ]
  },
  {
   "cell_type": "code",
   "execution_count": null,
   "metadata": {},
   "outputs": [],
   "source": [
    "project_id = prj_1 \n",
    "body = openapi_client.ProjectSubscribeReq(email_list=['myfriend1@domain.io', 'myfriend2@domain.io']) \n",
    "\n",
    "try:\n",
    "    api_response = projects.subscribe_users(project_id, project_subscribe_req=body)\n",
    "    print(api_response)\n",
    "except ApiException as e:\n",
    "    print(\"Exception when calling ProjectsApi->subscribe_users: %s\\n\" % e)"
   ]
  },
  {
   "cell_type": "markdown",
   "metadata": {},
   "source": [
    "Subscribe a user to `project_2`"
   ]
  },
  {
   "cell_type": "code",
   "execution_count": null,
   "metadata": {},
   "outputs": [],
   "source": [
    "project_id = prj_2 \n",
    "body = openapi_client.ProjectSubscribeReq(email_list=['myfriend1@domain.io']) \n",
    "\n",
    "try:\n",
    "    api_response = projects.subscribe_users(project_id, project_subscribe_req=body)\n",
    "    print(api_response)\n",
    "except ApiException as e:\n",
    "    print(\"Exception when calling ProjectsApi->subscribe_users: %s\\n\" % e)"
   ]
  },
  {
   "cell_type": "markdown",
   "metadata": {},
   "source": [
    "What happens if we want to subscribe users to a project that does not exist?"
   ]
  },
  {
   "cell_type": "code",
   "execution_count": null,
   "metadata": {},
   "outputs": [],
   "source": [
    "project_id = 'prj_eeeeeeeeeeeeeeeeeeeeeeeeeeeeeeee' \n",
    "body = openapi_client.ProjectSubscribeReq(email_list=['myfriend1@domain.io', 'myfriend2@domain.io']) \n",
    "\n",
    "try:\n",
    "    api_response = projects.subscribe_users(project_id, project_subscribe_req=body)\n",
    "    print(api_response)\n",
    "except ApiException as e:\n",
    "    print(\"Exception when calling ProjectsApi->subscribe_users: %s\\n\" % e)"
   ]
  },
  {
   "cell_type": "markdown",
   "metadata": {},
   "source": [
    "### Get project details"
   ]
  },
  {
   "cell_type": "code",
   "execution_count": null,
   "metadata": {},
   "outputs": [],
   "source": [
    "project_id = prj_1\n",
    "try:\n",
    "    api_response = projects.get_project(project_id)\n",
    "    print(api_response)\n",
    "except ApiException as e:\n",
    "    print(\"Exception when calling ProjectsApi->get_project: %s\\n\" % e)"
   ]
  },
  {
   "cell_type": "code",
   "execution_count": null,
   "metadata": {},
   "outputs": [],
   "source": [
    "project_id = prj_2\n",
    "try:\n",
    "    api_response = projects.get_project(project_id)\n",
    "    print(api_response)\n",
    "except ApiException as e:\n",
    "    print(\"Exception when calling ProjectsApi->get_project: %s\\n\" % e)"
   ]
  },
  {
   "cell_type": "markdown",
   "metadata": {},
   "source": [
    "Note that the users that you subscribed to the project in the previous step can only be members of the project once they have an account on https://home.atinary.com. In case you used the ficticious emails, or real emails not yet registered on https://home.atinary.com, you won't see them as members of your projects yet."
   ]
  },
  {
   "cell_type": "markdown",
   "metadata": {},
   "source": [
    "### Update project"
   ]
  },
  {
   "cell_type": "markdown",
   "metadata": {},
   "source": [
    "At anytime you can update the **name**, **description** or **owner** of your projects. Let's update the name and description for `project_2`"
   ]
  },
  {
   "cell_type": "code",
   "execution_count": null,
   "metadata": {},
   "outputs": [],
   "source": [
    "project_id = prj_2\n",
    "body = openapi_client.ProjectUpdateReq(new_name='project_2 updated', new_description='Description for project 2')\n",
    "\n",
    "try:\n",
    "    api_response = projects.update_project(project_id, project_update_req=body)\n",
    "    print(api_response)\n",
    "except ApiException as e:\n",
    "    print(\"Exception when calling ProjectsApi->update_project: %s\\n\" % e)"
   ]
  },
  {
   "cell_type": "markdown",
   "metadata": {},
   "source": [
    "Let's get tje project details once more for `project_2`"
   ]
  },
  {
   "cell_type": "code",
   "execution_count": null,
   "metadata": {},
   "outputs": [],
   "source": [
    "project_id = prj_2\n",
    "try:\n",
    "    api_response = projects.get_project(project_id)\n",
    "    print(api_response)\n",
    "except ApiException as e:\n",
    "    print(\"Exception when calling ProjectsApi->get_project: %s\\n\" % e)"
   ]
  },
  {
   "cell_type": "markdown",
   "metadata": {},
   "source": [
    "## Manage files "
   ]
  },
  {
   "cell_type": "markdown",
   "metadata": {},
   "source": [
    "Now that you have created some projects, and have collaborators associated to them, it's time to use functionalities to manage files. Again, as a fist step, enter a context with a `files` instance of the API client"
   ]
  },
  {
   "cell_type": "code",
   "execution_count": null,
   "metadata": {},
   "outputs": [],
   "source": [
    "with openapi_client.ApiClient(configuration) as api_client:\n",
    "    files = openapi_client.FilesApi(api_client)"
   ]
  },
  {
   "cell_type": "markdown",
   "metadata": {},
   "source": [
    "### List your files"
   ]
  },
  {
   "cell_type": "markdown",
   "metadata": {},
   "source": [
    "List available files on `project_1`"
   ]
  },
  {
   "cell_type": "code",
   "execution_count": null,
   "metadata": {},
   "outputs": [],
   "source": [
    "project_id = prj_1\n",
    "try:\n",
    "    api_response = files.list_files(project_id=project_id)\n",
    "    print(api_response)\n",
    "except ApiException as e:\n",
    "    print(\"Exception when calling FilesApi->list_files: %s\\n\" % e)"
   ]
  },
  {
   "cell_type": "markdown",
   "metadata": {},
   "source": [
    "### Upload files"
   ]
  },
  {
   "cell_type": "markdown",
   "metadata": {},
   "source": [
    "Let's add some files to `project_1`. Note that the allowed extensions are `csv`, `txt`, `xlsx` `xlsm`, `json` and `yaml` and the maximum file size is 512 MB"
   ]
  },
  {
   "cell_type": "markdown",
   "metadata": {},
   "source": [
    "Upload a CSV file as `parameters`"
   ]
  },
  {
   "cell_type": "code",
   "execution_count": null,
   "metadata": {},
   "outputs": [],
   "source": [
    "project_id = prj_1\n",
    "group_type = 'parameters'\n",
    "body = openapi_client.InlineObject(file='data/wine_data.csv')\n",
    "try:\n",
    "    api_response = files.upload_file(project_id, group_type, inline_object=body)\n",
    "    fle_wine_data = api_response.object.id\n",
    "    print(api_response)\n",
    "except ApiException as e:\n",
    "    print(\"Exception when calling FilesApi->upload_file: %s\\n\" % e)"
   ]
  },
  {
   "cell_type": "markdown",
   "metadata": {},
   "source": [
    "Upload another CSV file as `properties`"
   ]
  },
  {
   "cell_type": "code",
   "execution_count": null,
   "metadata": {},
   "outputs": [],
   "source": [
    "project_id = prj_1\n",
    "group_type = 'properties'\n",
    "inline_object = openapi_client.InlineObject(file='data/boston_house_prices.csv')\n",
    "try:\n",
    "    api_response = files.upload_file(project_id, group_type, inline_object=inline_object)\n",
    "    fle_house_prices = api_response.object.id\n",
    "    print(api_response)\n",
    "except ApiException as e:\n",
    "    print(\"Exception when calling FilesApi->upload_file: %s\\n\" % e)"
   ]
  },
  {
   "cell_type": "markdown",
   "metadata": {},
   "source": [
    "List available files  on `project_1`"
   ]
  },
  {
   "cell_type": "code",
   "execution_count": null,
   "metadata": {},
   "outputs": [],
   "source": [
    "project_id =prj_1\n",
    "\n",
    "try:\n",
    "    api_response = files.list_files(project_id=project_id)\n",
    "    print(api_response)\n",
    "except ApiException as e:\n",
    "    print(\"Exception when calling FilesApi->list_files: %s\\n\" % e)"
   ]
  },
  {
   "cell_type": "markdown",
   "metadata": {},
   "source": [
    "List available files again on `project_1`"
   ]
  },
  {
   "cell_type": "code",
   "execution_count": null,
   "metadata": {},
   "outputs": [],
   "source": [
    "project_id =prj_1\n",
    "try:\n",
    "    api_response = files.list_files(project_id=project_id)\n",
    "    print(api_response)\n",
    "except ApiException as e:\n",
    "    print(\"Exception when calling FilesApi->list_files: %s\\n\" % e)"
   ]
  },
  {
   "cell_type": "markdown",
   "metadata": {},
   "source": [
    "### Download files"
   ]
  },
  {
   "cell_type": "markdown",
   "metadata": {},
   "source": [
    "Download the wine_data.csv"
   ]
  },
  {
   "cell_type": "code",
   "execution_count": null,
   "metadata": {},
   "outputs": [],
   "source": [
    "file_id = fle_wine_data\n",
    "try:\n",
    "    api_response = files.download_file(file_id)\n",
    "    print(api_response)\n",
    "except ApiException as e:\n",
    "    print(\"Exception when calling FilesApi->download_file: %s\\n\" % e)"
   ]
  },
  {
   "cell_type": "markdown",
   "metadata": {},
   "source": [
    "Let's look at the file!"
   ]
  },
  {
   "cell_type": "code",
   "execution_count": null,
   "metadata": {},
   "outputs": [],
   "source": [
    "! cat  /tmp/wine_data.csv"
   ]
  },
  {
   "cell_type": "markdown",
   "metadata": {},
   "source": [
    "Download the boston_house_prices.csv"
   ]
  },
  {
   "cell_type": "code",
   "execution_count": null,
   "metadata": {},
   "outputs": [],
   "source": [
    "file_id = fle_house_prices \n",
    "try:\n",
    "    api_response = files.download_file(file_id)\n",
    "    print(api_response)\n",
    "except ApiException as e:\n",
    "    print(\"Exception when calling FilesApi->download_file: %s\\n\" % e)"
   ]
  },
  {
   "cell_type": "markdown",
   "metadata": {},
   "source": [
    "Let's look at the file!"
   ]
  },
  {
   "cell_type": "code",
   "execution_count": null,
   "metadata": {},
   "outputs": [],
   "source": [
    "! cat  /tmp/boston_house_prices.csv"
   ]
  },
  {
   "cell_type": "markdown",
   "metadata": {},
   "source": [
    "You can also ask your collaborators to download one of the files you uploaded!"
   ]
  },
  {
   "cell_type": "markdown",
   "metadata": {},
   "source": [
    "### Delete files "
   ]
  },
  {
   "cell_type": "markdown",
   "metadata": {},
   "source": [
    "List available files on `project_1`"
   ]
  },
  {
   "cell_type": "code",
   "execution_count": null,
   "metadata": {},
   "outputs": [],
   "source": [
    "project_id =prj_1\n",
    "try:\n",
    "    api_response = files.list_files(project_id=project_id)\n",
    "    print(api_response)\n",
    "except ApiException as e:\n",
    "    print(\"Exception when calling FilesApi->list_files: %s\\n\" % e)"
   ]
  },
  {
   "cell_type": "markdown",
   "metadata": {},
   "source": [
    "Let's delete one of the files uploaded on `project_1`"
   ]
  },
  {
   "cell_type": "code",
   "execution_count": null,
   "metadata": {},
   "outputs": [],
   "source": [
    "file_id = fle_house_prices\n",
    "try:\n",
    "    api_response = files.delete_file(file_id)\n",
    "    print(api_response)\n",
    "except ApiException as e:\n",
    "    print(\"Exception when calling FilesApi->delete_file: %s\\n\" % e)"
   ]
  },
  {
   "cell_type": "markdown",
   "metadata": {},
   "source": [
    "List available files again on `project_1`"
   ]
  },
  {
   "cell_type": "code",
   "execution_count": null,
   "metadata": {},
   "outputs": [],
   "source": [
    "project_id =prj_1\n",
    "try:\n",
    "    api_response = files.list_files(project_id=project_id)\n",
    "    print(api_response)\n",
    "except ApiException as e:\n",
    "    print(\"Exception when calling FilesApi->list_files: %s\\n\" % e)"
   ]
  },
  {
   "cell_type": "markdown",
   "metadata": {},
   "source": [
    "### Unsubscribe from project"
   ]
  },
  {
   "cell_type": "markdown",
   "metadata": {},
   "source": [
    "So far you are the owner of `project_1` and `project_2`. As the owner you can not unsubscribe from either of the projects:"
   ]
  },
  {
   "cell_type": "code",
   "execution_count": null,
   "metadata": {},
   "outputs": [],
   "source": [
    "project_id =prj_1\n",
    "body=openapi_client.ProjectUnsubscribeReq(email_list=[])\n",
    "try:\n",
    "    api_response = projects.unsubscribe(project_id=project_id, project_unsubscribe_req=body)\n",
    "    print(api_response)\n",
    "except ApiException as e:\n",
    "    print(\"Exception when calling ProjectsApi->list_projects: %s\\n\" % e)"
   ]
  },
  {
   "cell_type": "markdown",
   "metadata": {},
   "source": [
    "Note: In case you *need* to unsubscribe from a project, you can give the ownership to one of your project members by using the method **update_project**"
   ]
  },
  {
   "cell_type": "markdown",
   "metadata": {},
   "source": [
    "### Delete project"
   ]
  },
  {
   "cell_type": "markdown",
   "metadata": {},
   "source": [
    "Let's try to delete `project_1`:"
   ]
  },
  {
   "cell_type": "code",
   "execution_count": null,
   "metadata": {},
   "outputs": [],
   "source": [
    "project_id =prj_1\n",
    "try:\n",
    "    api_response = projects.delete_project(project_id=project_id)\n",
    "    print(api_response)\n",
    "except ApiException as e:\n",
    "    print(\"Exception when calling ProjectsApi->list_projects: %s\\n\" % e)"
   ]
  },
  {
   "cell_type": "markdown",
   "metadata": {},
   "source": [
    "As you can see the project deletion, from the API level, can only be done if there are no files and users subscribed to it. Let's do these deletions and proceed with the project deletion again:"
   ]
  },
  {
   "cell_type": "code",
   "execution_count": null,
   "metadata": {},
   "outputs": [],
   "source": [
    "file_id = fle_wine_data\n",
    "try:\n",
    "    api_response = files.delete_file(file_id)\n",
    "    print(api_response)\n",
    "except ApiException as e:\n",
    "    print(\"Exception when calling FilesApi->delete_file: %s\\n\" % e)"
   ]
  },
  {
   "cell_type": "code",
   "execution_count": null,
   "metadata": {},
   "outputs": [],
   "source": [
    "project_id =prj_1\n",
    "try:\n",
    "    api_response = projects.delete_project(project_id=project_id)\n",
    "    print(api_response)\n",
    "except ApiException as e:\n",
    "    print(\"Exception when calling ProjectsApi->list_projects: %s\\n\" % e)"
   ]
  },
  {
   "cell_type": "markdown",
   "metadata": {},
   "source": [
    "List your projects"
   ]
  },
  {
   "cell_type": "code",
   "execution_count": null,
   "metadata": {},
   "outputs": [],
   "source": [
    "try:\n",
    "    api_response = projects.list_projects()\n",
    "    print(api_response)\n",
    "except ApiException as e:\n",
    "    print(\"Exception when calling ProjectsApi->list_projects: %s\\n\" % e)"
   ]
  }
 ],
 "metadata": {
  "kernelspec": {
   "display_name": "Python 3",
   "language": "python",
   "name": "python3"
  },
  "language_info": {
   "codemirror_mode": {
    "name": "ipython",
    "version": 3
   },
   "file_extension": ".py",
   "mimetype": "text/x-python",
   "name": "python",
   "nbconvert_exporter": "python",
   "pygments_lexer": "ipython3",
   "version": "3.6.9"
  }
 },
 "nbformat": 4,
 "nbformat_minor": 4
}